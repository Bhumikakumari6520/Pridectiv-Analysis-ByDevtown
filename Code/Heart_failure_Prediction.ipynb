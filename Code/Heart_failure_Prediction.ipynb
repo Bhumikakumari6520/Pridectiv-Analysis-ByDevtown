{
 "cells": [
  {
   "cell_type": "markdown",
   "id": "06ab9172",
   "metadata": {},
   "source": [
    "Import necessary Libraries"
   ]
  },
  {
   "cell_type": "code",
   "execution_count": 2,
   "id": "671d964f",
   "metadata": {},
   "outputs": [],
   "source": [
    "import pandas as pd\n",
    "import numpy as np\n",
    "from sklearn.model_selection import train_test_split\n",
    "from sklearn.ensemble import RandomForestClassifier\n",
    "from sklearn.metrics import accuracy_score\n",
    "import pickle"
   ]
  },
  {
   "cell_type": "markdown",
   "id": "2f9a982f",
   "metadata": {},
   "source": [
    "Data Import"
   ]
  },
  {
   "cell_type": "code",
   "execution_count": 8,
   "id": "c7cd59ab",
   "metadata": {},
   "outputs": [
    {
     "name": "stdout",
     "output_type": "stream",
     "text": [
      "Dataset sucessfully imported. Here is the Preview-\n",
      "    age  anaemia  creatinine_phosphokinase  diabetes  ejection_fraction  \\\n",
      "0  75.0        0                       582         0                 20   \n",
      "1  55.0        0                      7861         0                 38   \n",
      "2  65.0        0                       146         0                 20   \n",
      "3  50.0        1                       111         0                 20   \n",
      "4  65.0        1                       160         1                 20   \n",
      "\n",
      "   high_blood_pressure  platelets  serum_creatinine  serum_sodium  sex  \\\n",
      "0                    1  265000.00               1.9           130    1   \n",
      "1                    0  263358.03               1.1           136    1   \n",
      "2                    0  162000.00               1.3           129    1   \n",
      "3                    0  210000.00               1.9           137    1   \n",
      "4                    0  327000.00               2.7           116    0   \n",
      "\n",
      "   smoking  time  DEATH_EVENT  \n",
      "0        0     4            1  \n",
      "1        0     6            1  \n",
      "2        1     7            1  \n",
      "3        0     7            1  \n",
      "4        0     8            1  \n"
     ]
    }
   ],
   "source": [
    "try:\n",
    "    df = pd.read_csv(r'C:\\\\Users\\\\av828\\\\VSPrograms\\\\PythonVS\\\\Devtown\\\\Dataset.csv')\n",
    "    print(\"Dataset sucessfully imported. Here is the Preview-\")\n",
    "    print(df.head())\n",
    "except FileNotFoundError:\n",
    "    print(\"File Not Found!\")\n",
    "    exit()"
   ]
  },
  {
   "cell_type": "markdown",
   "id": "fefbb314",
   "metadata": {},
   "source": [
    "Get the Info of the Data"
   ]
  },
  {
   "cell_type": "code",
   "execution_count": 9,
   "id": "8f8cc016",
   "metadata": {},
   "outputs": [
    {
     "name": "stdout",
     "output_type": "stream",
     "text": [
      "<class 'pandas.core.frame.DataFrame'>\n",
      "RangeIndex: 299 entries, 0 to 298\n",
      "Data columns (total 13 columns):\n",
      " #   Column                    Non-Null Count  Dtype  \n",
      "---  ------                    --------------  -----  \n",
      " 0   age                       299 non-null    float64\n",
      " 1   anaemia                   299 non-null    int64  \n",
      " 2   creatinine_phosphokinase  299 non-null    int64  \n",
      " 3   diabetes                  299 non-null    int64  \n",
      " 4   ejection_fraction         299 non-null    int64  \n",
      " 5   high_blood_pressure       299 non-null    int64  \n",
      " 6   platelets                 299 non-null    float64\n",
      " 7   serum_creatinine          299 non-null    float64\n",
      " 8   serum_sodium              299 non-null    int64  \n",
      " 9   sex                       299 non-null    int64  \n",
      " 10  smoking                   299 non-null    int64  \n",
      " 11  time                      299 non-null    int64  \n",
      " 12  DEATH_EVENT               299 non-null    int64  \n",
      "dtypes: float64(3), int64(10)\n",
      "memory usage: 30.5 KB\n"
     ]
    }
   ],
   "source": [
    "df.info()"
   ]
  },
  {
   "cell_type": "markdown",
   "id": "27fd35e4",
   "metadata": {},
   "source": [
    "Seprate the Feature(X) and Target(y)"
   ]
  },
  {
   "cell_type": "markdown",
   "id": "aae41cba",
   "metadata": {},
   "source": [
    "Target Variable hai 'DEATH_EVENT'"
   ]
  },
  {
   "cell_type": "code",
   "execution_count": 11,
   "id": "5fa3753e",
   "metadata": {},
   "outputs": [],
   "source": [
    "X = df.drop('DEATH_EVENT', axis=1)\n",
    "y = df['DEATH_EVENT']"
   ]
  },
  {
   "cell_type": "code",
   "execution_count": 12,
   "id": "75ca8933",
   "metadata": {},
   "outputs": [
    {
     "name": "stdout",
     "output_type": "stream",
     "text": [
      "\n",
      "Features (X) shape: (299, 12)\n",
      "Target (y) shape: (299,)\n"
     ]
    }
   ],
   "source": [
    "print(f\"\\nFeatures (X) shape: {X.shape}\")\n",
    "print(f\"Target (y) shape: {y.shape}\")"
   ]
  },
  {
   "cell_type": "markdown",
   "id": "c17d6b33",
   "metadata": {},
   "source": [
    "Data Splitting- 80% for training and 20% for testing"
   ]
  },
  {
   "cell_type": "code",
   "execution_count": 13,
   "id": "b4dd50b4",
   "metadata": {},
   "outputs": [],
   "source": [
    "X_train, X_test, y_train, y_test = train_test_split(X, y, test_size=0.2, random_state=42, stratify=y)"
   ]
  },
  {
   "cell_type": "code",
   "execution_count": 14,
   "id": "b636faa5",
   "metadata": {},
   "outputs": [
    {
     "name": "stdout",
     "output_type": "stream",
     "text": [
      "\n",
      "Training set size: 239\n",
      "Testing set size: 60\n"
     ]
    }
   ],
   "source": [
    "print(f\"\\nTraining set size: {len(X_train)}\")\n",
    "print(f\"Testing set size: {len(X_test)}\")"
   ]
  },
  {
   "cell_type": "markdown",
   "id": "c5a085f5",
   "metadata": {},
   "source": [
    "Model training- Using RandomForestClassifire"
   ]
  },
  {
   "cell_type": "code",
   "execution_count": 15,
   "id": "d228cb6c",
   "metadata": {},
   "outputs": [
    {
     "name": "stdout",
     "output_type": "stream",
     "text": [
      "\n",
      "Now Model is going to be trained\n"
     ]
    }
   ],
   "source": [
    "print(\"\\nNow Model is going to be trained\")\n",
    "model = RandomForestClassifier(n_estimators=100, random_state=42)"
   ]
  },
  {
   "cell_type": "markdown",
   "id": "61d219e9",
   "metadata": {},
   "source": [
    "Fit the model on training data"
   ]
  },
  {
   "cell_type": "code",
   "execution_count": 17,
   "id": "f4511862",
   "metadata": {},
   "outputs": [
    {
     "name": "stdout",
     "output_type": "stream",
     "text": [
      "Model training has successfully completed!\n"
     ]
    }
   ],
   "source": [
    "model.fit(X_train, y_train)\n",
    "print(\"Model training has successfully completed!\")"
   ]
  },
  {
   "cell_type": "markdown",
   "id": "8954e538",
   "metadata": {},
   "source": [
    "Model Evaluation"
   ]
  },
  {
   "cell_type": "code",
   "execution_count": 18,
   "id": "5022998b",
   "metadata": {},
   "outputs": [],
   "source": [
    "y_pred = model.predict(X_test)"
   ]
  },
  {
   "cell_type": "markdown",
   "id": "1f3695c0",
   "metadata": {},
   "source": [
    "Calculate Accuracy"
   ]
  },
  {
   "cell_type": "code",
   "execution_count": null,
   "id": "c3a13794",
   "metadata": {},
   "outputs": [
    {
     "name": "stdout",
     "output_type": "stream",
     "text": [
      "\n",
      "Model ki accuracy Test Set par: 83.33%\n"
     ]
    }
   ],
   "source": [
    "accuracy = accuracy_score(y_test, y_pred)\n",
    "print(f\"\\nModel accuracy on test set: {accuracy * 100:.2f}%\")"
   ]
  },
  {
   "cell_type": "markdown",
   "id": "a166ac85",
   "metadata": {},
   "source": [
    "Filter the result through the condition"
   ]
  },
  {
   "cell_type": "code",
   "execution_count": 20,
   "id": "0d2763ac",
   "metadata": {},
   "outputs": [
    {
     "name": "stdout",
     "output_type": "stream",
     "text": [
      "Model reached 80% of the accuracy\n"
     ]
    }
   ],
   "source": [
    "if accuracy > 0.80:\n",
    "    print(\"Model reached 80% of the accuracy\")\n",
    "else:\n",
    "    print(\"Model accuracy is less than 80%, if you want then you can try to make it more accurate.\")"
   ]
  },
  {
   "cell_type": "markdown",
   "id": "dd9e35de",
   "metadata": {},
   "source": [
    "Model saving in .pkl extension"
   ]
  },
  {
   "cell_type": "code",
   "execution_count": 22,
   "id": "90689c76",
   "metadata": {},
   "outputs": [
    {
     "name": "stdout",
     "output_type": "stream",
     "text": [
      "\n",
      "Trained model is saved in 'model.pkl'file.\n"
     ]
    }
   ],
   "source": [
    "model_filename = 'model.pkl'\n",
    "with open(model_filename, 'wb') as file:\n",
    "    pickle.dump(model, file)\n",
    "\n",
    "print(f\"\\nTrained model is saved in '{model_filename}'file.\")"
   ]
  }
 ],
 "metadata": {
  "kernelspec": {
   "display_name": "Python 3",
   "language": "python",
   "name": "python3"
  },
  "language_info": {
   "codemirror_mode": {
    "name": "ipython",
    "version": 3
   },
   "file_extension": ".py",
   "mimetype": "text/x-python",
   "name": "python",
   "nbconvert_exporter": "python",
   "pygments_lexer": "ipython3",
   "version": "3.12.2"
  }
 },
 "nbformat": 4,
 "nbformat_minor": 5
}
